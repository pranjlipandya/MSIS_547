{
 "cells": [
  {
   "cell_type": "code",
   "execution_count": 8,
   "metadata": {},
   "outputs": [
    {
     "data": {
      "text/plain": [
       "'bunny_transparent.png'"
      ]
     },
     "execution_count": 8,
     "metadata": {},
     "output_type": "execute_result"
    }
   ],
   "source": [
    "from PIL import Image\n",
    "\n",
    "# Load the image\n",
    "img = Image.open(\"bunny.png\")\n",
    "\n",
    "# Convert the image to RGBA if it is not already in that mode\n",
    "if img.mode != 'RGBA':\n",
    "    img = img.convert('RGBA')\n",
    "\n",
    "# Process the image to remove white background and save as PNG with transparency\n",
    "# Define a threshold to consider what is a white background\n",
    "threshold = 240\n",
    "# Loop through all pixels and turn the white (really light) pixels to transparent\n",
    "datas = img.getdata()\n",
    "newData = []\n",
    "for item in datas:\n",
    "    # Change all white (also shades of whites)\n",
    "    # pixels to transparent\n",
    "    if item[0] > threshold and item[1] > threshold and item[2] > threshold:\n",
    "        newData.append((255, 255, 255, 0))\n",
    "    else:\n",
    "        newData.append(item)\n",
    "img.putdata(newData)\n",
    "\n",
    "# Save the image as PNG\n",
    "output_path = \"bunny_transparent.png\"\n",
    "img.save(output_path, \"PNG\")\n",
    "\n",
    "output_path\n"
   ]
  }
 ],
 "metadata": {
  "kernelspec": {
   "display_name": "Python 3",
   "language": "python",
   "name": "python3"
  },
  "language_info": {
   "codemirror_mode": {
    "name": "ipython",
    "version": 3
   },
   "file_extension": ".py",
   "mimetype": "text/x-python",
   "name": "python",
   "nbconvert_exporter": "python",
   "pygments_lexer": "ipython3",
   "version": "3.10.5"
  }
 },
 "nbformat": 4,
 "nbformat_minor": 2
}
